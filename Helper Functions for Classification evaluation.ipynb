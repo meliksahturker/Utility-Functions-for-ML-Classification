{
 "cells": [
  {
   "cell_type": "code",
   "execution_count": 1,
   "metadata": {},
   "outputs": [],
   "source": [
    "import pandas as pd\n",
    "import numpy as np\n",
    "import matplotlib.pyplot as plt\n",
    "from sklearn import metrics"
   ]
  },
  {
   "cell_type": "markdown",
   "metadata": {},
   "source": [
    "## Helper Functions"
   ]
  },
  {
   "cell_type": "markdown",
   "metadata": {},
   "source": [
    "#### Function that plots ROC"
   ]
  },
  {
   "cell_type": "code",
   "execution_count": 1,
   "metadata": {},
   "outputs": [],
   "source": [
    "def plot_roc(y, probs):\n",
    "    fpr, tpr, threshold = metrics.roc_curve(y, probs)\n",
    "    roc_auc = metrics.auc(fpr, tpr)\n",
    "    plt.figure(figsize = (5, 4))\n",
    "    lw = 2\n",
    "    plt.plot(fpr, tpr, color='darkorange',\n",
    "             lw=lw, label='ROC curve (area = %0.3f)' % roc_auc)\n",
    "    plt.plot([0, 1], [0, 1], color='navy', lw = lw, linestyle='--')\n",
    "    plt.xlim([0.0, 1.0])\n",
    "    plt.ylim([0.0, 1.05])\n",
    "    plt.xlabel('False Positive Rate')\n",
    "    plt.ylabel('True Positive Rate')\n",
    "    plt.title('ROC Curve')\n",
    "    plt.legend(loc=\"lower right\")\n",
    "    plt.show()"
   ]
  },
  {
   "cell_type": "markdown",
   "metadata": {},
   "source": [
    "#### Function looks for the best probability threshold, returns it with ROC-like, F1 score vs. Probability Threshold plot"
   ]
  },
  {
   "cell_type": "code",
   "execution_count": 663,
   "metadata": {},
   "outputs": [],
   "source": [
    "def search_probability_threshold(y, probs):\n",
    "    lst_f1_score = []\n",
    "    lst_threshold = np.linspace(0, 1, 2500)\n",
    "    for threshold in lst_threshold:\n",
    "        preds = (probs > threshold) * 1\n",
    "        lst_f1_score.append(metrics.f1_score(y, preds))\n",
    "\n",
    "    fig, ax = plt.subplots(figsize = (12, 4))\n",
    "    pd.DataFrame({'Threshold': lst_threshold, 'F1_score': lst_f1_score}).set_index('Threshold').plot(ax = ax, xlim = (0, 2 * np.std(probs) ),\n",
    "    title = 'Best Threshold value with highest F1 score is: ' + str(round(lst_threshold[np.argmax(lst_f1_score)], 4)))\n",
    "    ax.axvline(x = lst_threshold[np.argmax(lst_f1_score)], linewidth = 1, color = 'r', linestyle = '--')\n",
    "    print(\"Best F1 Score: \" + str(np.max(lst_f1_score)))\n",
    "    \n",
    "    return lst_threshold[np.argmax(lst_f1_score)]"
   ]
  },
  {
   "cell_type": "markdown",
   "metadata": {},
   "source": [
    "#### Function that creates a DataFrame with Accuracy, Recall, Precision, F1 and AUC scores"
   ]
  },
  {
   "cell_type": "code",
   "execution_count": 3,
   "metadata": {},
   "outputs": [],
   "source": [
    "def all_metrics_together(y, probs, preds):\n",
    "    accuracy = metrics.accuracy_score(y, preds)\n",
    "    recall = metrics.recall_score(y, preds)\n",
    "    precision = metrics.precision_score(y, preds)\n",
    "    f1 = metrics.f1_score(y, preds)\n",
    "    auc = metrics.roc_auc_score(y, (probs))\n",
    "\n",
    "    df = pd.DataFrame({'Accuracy': accuracy, 'Recall': recall, 'Precision': precision, 'F1': f1, 'AUC': auc}, index = ['Score'])\n",
    "    return df"
   ]
  }
 ],
 "metadata": {
  "kernelspec": {
   "display_name": "Python 3",
   "language": "python",
   "name": "python3"
  },
  "language_info": {
   "codemirror_mode": {
    "name": "ipython",
    "version": 3
   },
   "file_extension": ".py",
   "mimetype": "text/x-python",
   "name": "python",
   "nbconvert_exporter": "python",
   "pygments_lexer": "ipython3",
   "version": "3.7.6"
  },
  "toc": {
   "base_numbering": 1,
   "nav_menu": {},
   "number_sections": true,
   "sideBar": true,
   "skip_h1_title": false,
   "title_cell": "Table of Contents",
   "title_sidebar": "Contents",
   "toc_cell": false,
   "toc_position": {},
   "toc_section_display": true,
   "toc_window_display": false
  },
  "varInspector": {
   "cols": {
    "lenName": 16,
    "lenType": 16,
    "lenVar": 40
   },
   "kernels_config": {
    "python": {
     "delete_cmd_postfix": "",
     "delete_cmd_prefix": "del ",
     "library": "var_list.py",
     "varRefreshCmd": "print(var_dic_list())"
    },
    "r": {
     "delete_cmd_postfix": ") ",
     "delete_cmd_prefix": "rm(",
     "library": "var_list.r",
     "varRefreshCmd": "cat(var_dic_list()) "
    }
   },
   "types_to_exclude": [
    "module",
    "function",
    "builtin_function_or_method",
    "instance",
    "_Feature"
   ],
   "window_display": false
  }
 },
 "nbformat": 4,
 "nbformat_minor": 2
}
